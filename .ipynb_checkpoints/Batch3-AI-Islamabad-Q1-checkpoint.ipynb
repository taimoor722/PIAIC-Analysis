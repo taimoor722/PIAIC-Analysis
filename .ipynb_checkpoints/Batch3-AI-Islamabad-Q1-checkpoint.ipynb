{
 "cells": [
  {
   "cell_type": "markdown",
   "metadata": {},
   "source": []
  },
  {
   "cell_type": "code",
   "execution_count": null,
   "metadata": {},
   "outputs": [],
   "source": []
  },
  {
   "cell_type": "code",
   "execution_count": 1,
   "metadata": {},
   "outputs": [],
   "source": [
    "%matplotlib inline"
   ]
  },
  {
   "cell_type": "code",
   "execution_count": 2,
   "metadata": {},
   "outputs": [],
   "source": [
    "import pandas as pd \n",
    "import numpy as np\n",
    "import matplotlib.pyplot as plt\n"
   ]
  },
  {
   "cell_type": "code",
   "execution_count": 3,
   "metadata": {},
   "outputs": [],
   "source": [
    "q1=pd.read_csv('PIAIC Islamabad Batch 3 Quarter 1 Final Grades_Results - Onsite - AIC.csv')"
   ]
  },
  {
   "cell_type": "code",
   "execution_count": 4,
   "metadata": {},
   "outputs": [],
   "source": [
    "q1=q1[['Name','Roll Number','Tests Missed','Overall Percentile','Rank']]\n"
   ]
  },
  {
   "cell_type": "code",
   "execution_count": 5,
   "metadata": {},
   "outputs": [],
   "source": [
    "q1['Overall Percentile']=q1.iloc[:,3].astype(int)"
   ]
  },
  {
   "cell_type": "code",
   "execution_count": 6,
   "metadata": {},
   "outputs": [
    {
     "data": {
      "text/html": [
       "<div>\n",
       "<style scoped>\n",
       "    .dataframe tbody tr th:only-of-type {\n",
       "        vertical-align: middle;\n",
       "    }\n",
       "\n",
       "    .dataframe tbody tr th {\n",
       "        vertical-align: top;\n",
       "    }\n",
       "\n",
       "    .dataframe thead th {\n",
       "        text-align: right;\n",
       "    }\n",
       "</style>\n",
       "<table border=\"1\" class=\"dataframe\">\n",
       "  <thead>\n",
       "    <tr style=\"text-align: right;\">\n",
       "      <th></th>\n",
       "      <th>Name</th>\n",
       "      <th>Roll Number</th>\n",
       "      <th>Tests Missed</th>\n",
       "      <th>Overall Percentile</th>\n",
       "      <th>Rank</th>\n",
       "    </tr>\n",
       "  </thead>\n",
       "  <tbody>\n",
       "    <tr>\n",
       "      <th>0</th>\n",
       "      <td>Ahmad Mustafa Athar</td>\n",
       "      <td>PIAIC60145</td>\n",
       "      <td>0</td>\n",
       "      <td>100</td>\n",
       "      <td>1</td>\n",
       "    </tr>\n",
       "    <tr>\n",
       "      <th>1</th>\n",
       "      <td>Taimoor Arif</td>\n",
       "      <td>PIAIC49757</td>\n",
       "      <td>0</td>\n",
       "      <td>100</td>\n",
       "      <td>1</td>\n",
       "    </tr>\n",
       "    <tr>\n",
       "      <th>2</th>\n",
       "      <td>Luqman Ahmed</td>\n",
       "      <td>PIAIC67385</td>\n",
       "      <td>0</td>\n",
       "      <td>100</td>\n",
       "      <td>1</td>\n",
       "    </tr>\n",
       "    <tr>\n",
       "      <th>3</th>\n",
       "      <td>Noman Tanveer</td>\n",
       "      <td>PIAIC55159</td>\n",
       "      <td>0</td>\n",
       "      <td>100</td>\n",
       "      <td>1</td>\n",
       "    </tr>\n",
       "    <tr>\n",
       "      <th>4</th>\n",
       "      <td>Faizan Hassan Siddiqui</td>\n",
       "      <td>PIAIC66523</td>\n",
       "      <td>0</td>\n",
       "      <td>100</td>\n",
       "      <td>1</td>\n",
       "    </tr>\n",
       "    <tr>\n",
       "      <th>...</th>\n",
       "      <td>...</td>\n",
       "      <td>...</td>\n",
       "      <td>...</td>\n",
       "      <td>...</td>\n",
       "      <td>...</td>\n",
       "    </tr>\n",
       "    <tr>\n",
       "      <th>1707</th>\n",
       "      <td>Raja Muhammad Adeel Zauq</td>\n",
       "      <td>PIAIC67344</td>\n",
       "      <td>1</td>\n",
       "      <td>0</td>\n",
       "      <td>1315</td>\n",
       "    </tr>\n",
       "    <tr>\n",
       "      <th>1708</th>\n",
       "      <td>Adrish Baig</td>\n",
       "      <td>PIAIC73272</td>\n",
       "      <td>1</td>\n",
       "      <td>0</td>\n",
       "      <td>1315</td>\n",
       "    </tr>\n",
       "    <tr>\n",
       "      <th>1709</th>\n",
       "      <td>Shahid Ameen</td>\n",
       "      <td>PIAIC75632</td>\n",
       "      <td>1</td>\n",
       "      <td>0</td>\n",
       "      <td>1315</td>\n",
       "    </tr>\n",
       "    <tr>\n",
       "      <th>1710</th>\n",
       "      <td>Muhammad Shakeel</td>\n",
       "      <td>PIAIC54564</td>\n",
       "      <td>1</td>\n",
       "      <td>0</td>\n",
       "      <td>1315</td>\n",
       "    </tr>\n",
       "    <tr>\n",
       "      <th>1711</th>\n",
       "      <td>Yusra Abdul Qayyum</td>\n",
       "      <td>PIAIC78235</td>\n",
       "      <td>1</td>\n",
       "      <td>0</td>\n",
       "      <td>1315</td>\n",
       "    </tr>\n",
       "  </tbody>\n",
       "</table>\n",
       "<p>1712 rows × 5 columns</p>\n",
       "</div>"
      ],
      "text/plain": [
       "                          Name Roll Number  Tests Missed  Overall Percentile  \\\n",
       "0          Ahmad Mustafa Athar  PIAIC60145             0                 100   \n",
       "1                 Taimoor Arif  PIAIC49757             0                 100   \n",
       "2                 Luqman Ahmed  PIAIC67385             0                 100   \n",
       "3                Noman Tanveer  PIAIC55159             0                 100   \n",
       "4       Faizan Hassan Siddiqui  PIAIC66523             0                 100   \n",
       "...                        ...         ...           ...                 ...   \n",
       "1707  Raja Muhammad Adeel Zauq  PIAIC67344             1                   0   \n",
       "1708               Adrish Baig  PIAIC73272             1                   0   \n",
       "1709              Shahid Ameen  PIAIC75632             1                   0   \n",
       "1710          Muhammad Shakeel  PIAIC54564             1                   0   \n",
       "1711        Yusra Abdul Qayyum  PIAIC78235             1                   0   \n",
       "\n",
       "      Rank  \n",
       "0        1  \n",
       "1        1  \n",
       "2        1  \n",
       "3        1  \n",
       "4        1  \n",
       "...    ...  \n",
       "1707  1315  \n",
       "1708  1315  \n",
       "1709  1315  \n",
       "1710  1315  \n",
       "1711  1315  \n",
       "\n",
       "[1712 rows x 5 columns]"
      ]
     },
     "execution_count": 6,
     "metadata": {},
     "output_type": "execute_result"
    }
   ],
   "source": [
    "q1"
   ]
  },
  {
   "cell_type": "code",
   "execution_count": 7,
   "metadata": {},
   "outputs": [
    {
     "data": {
      "text/plain": [
       "0       100\n",
       "1       100\n",
       "2       100\n",
       "3       100\n",
       "4       100\n",
       "       ... \n",
       "1707      0\n",
       "1708      0\n",
       "1709      0\n",
       "1710      0\n",
       "1711      0\n",
       "Name: Overall Percentile, Length: 1712, dtype: int32"
      ]
     },
     "execution_count": 7,
     "metadata": {},
     "output_type": "execute_result"
    }
   ],
   "source": [
    "freq_q1=q1['Overall Percentile']\n",
    "freq_q1"
   ]
  },
  {
   "cell_type": "code",
   "execution_count": 8,
   "metadata": {},
   "outputs": [],
   "source": [
    "percentage_attemed=round(((q1['Tests Missed'] == 0).value_counts()/q1.notnull().sum()[0])*100,2)"
   ]
  },
  {
   "cell_type": "code",
   "execution_count": 9,
   "metadata": {},
   "outputs": [
    {
     "data": {
      "text/plain": [
       "Text(0.5, 1.0, 'Attempt vs Missed')"
      ]
     },
     "execution_count": 9,
     "metadata": {},
     "output_type": "execute_result"
    },
    {
     "data": {
      "image/png": "[encoded data removed]",
      "text/plain": [
       "<Figure size 432x288 with 1 Axes>"
      ]
     },
     "metadata": {},
     "output_type": "display_data"
    }
   ],
   "source": [
    "percentage_attemed.plot(kind='pie',labels=['attemped','Missed'],)\n",
    "plt.title('Attempt vs Missed')"
   ]
  },
  {
   "cell_type": "code",
   "execution_count": 10,
   "metadata": {},
   "outputs": [
    {
     "data": {
      "text/plain": [
       "Text(0.5, 1.0, 'AI For Every one- Q1')"
      ]
     },
     "execution_count": 10,
     "metadata": {},
     "output_type": "execute_result"
    },
    {
     "data": {
      "image/png": "[encoded data removed]",
      "text/plain": [
       "<Figure size 504x504 with 1 Axes>"
      ]
     },
     "metadata": {},
     "output_type": "display_data"
    }
   ],
   "source": [
    "plt.figure(figsize=(7,7))\n",
    "plt.pie(percentage_attemed,labels=['Attempted','Missed'],labeldistance=0.35,autopct='%.0f%%',\n",
    "       shadow=True, startangle= -90, \n",
    "        textprops={'fontsize': 18},\n",
    "       explode=(0.1,0.1),colors=['c','pink'],)\n",
    "        \n",
    "plt.title('AI For Every one- Q1',fontsize=20,color='black')\n",
    "\n",
    "\n",
    "\n",
    "\n",
    "\n"
   ]
  },
  {
   "cell_type": "code",
   "execution_count": 15,
   "metadata": {},
   "outputs": [
    {
     "data": {
      "text/plain": [
       "(20, 40]     306\n",
       "(40, 60]     353\n",
       "(60, 80]     339\n",
       "(80, 101]    316\n",
       "Name: binsee, dtype: int64"
      ]
     },
     "execution_count": 15,
     "metadata": {},
     "output_type": "execute_result"
    }
   ],
   "source": [
    "q1['binsee']=pd.cut(q1['Overall Percentile'],[20,40,60,80,101])\n",
    "q1['binsee'].value_counts().sort_index()\n"
   ]
  },
  {
   "cell_type": "code",
   "execution_count": 16,
   "metadata": {},
   "outputs": [
    {
     "name": "stdout",
     "output_type": "stream",
     "text": [
      "(0, 306)\n",
      "(1, 353)\n",
      "(2, 339)\n",
      "(3, 316)\n"
     ]
    },
    {
     "data": {
      "text/plain": [
       "Text(0.5, 0, 'percentile bins')"
      ]
     },
     "execution_count": 16,
     "metadata": {},
     "output_type": "execute_result"
    },
    {
     "data": {
      "image/png": "[encoded data removed]",
      "text/plain": [
       "<Figure size 360x360 with 1 Axes>"
      ]
     },
     "metadata": {
      "needs_background": "light"
     },
     "output_type": "display_data"
    }
   ],
   "source": [
    "plt.figure(figsize=(5,5))\n",
    "barrr=plt.bar([x+0.31 for x in range(4)],q1['binsee'].value_counts().sort_index(),\n",
    "              color=['c']  )\n",
    "plt.xticks([0.31,1.31,2.31,3.31],labels=[f'{x.left}-{x.right}' for x in q1['binsee'].value_counts().sort_index().index])\n",
    "for xy in enumerate(q1['binsee'].value_counts().sort_index().tolist()):\n",
    "    plt.text(xy[0],xy[1]-40,f'{xy[1]}\\nstudents'.center(19))\n",
    "    print(xy)\n",
    "\n",
    "plt.gca().spines['right'].set_visible(False)\n",
    "plt.gca().spines['top'].set_visible(False)\n",
    "plt.title('students catogries by percentile\\nQ1-Batch 3 ISB')\n",
    "plt.ylabel('students in numbers')\n",
    "plt.xlabel('percentile bins')"
   ]
  },
  {
   "cell_type": "code",
   "execution_count": null,
   "metadata": {},
   "outputs": [],
   "source": []
  },
  {
   "cell_type": "code",
   "execution_count": 11,
   "metadata": {},
   "outputs": [],
   "source": [
    "# percentile_attempted=freq_q1[freq_q1 != 0]\n",
    "# len(percentile_attempted.value_counts())\n",
    "# pectile_bined=percentile_attempted.value_counts(bins=2)\n",
    "# pec=pectile_bined.values\n",
    "# student_grouping=pd.DataFrame(pec,columns=['no_of_student'])\n",
    "# # student_grouping['group']=['scored less than 40','scored between 60-80','scored above 80','scored bewteen 40-60']\n",
    "# # student_grouping.sort_values('no_of_student',inplace=True)\n",
    "# # \n",
    "\n",
    "# student_grouping['group']=['  60','scored above 60']\n",
    "# student_grouping.sort_values('no_of_student',inplace=True)\n",
    "# student_grouping\n",
    "# pectile_bined"
   ]
  },
  {
   "cell_type": "code",
   "execution_count": 12,
   "metadata": {},
   "outputs": [],
   "source": [
    "# fig1=plt.figure(figsize=(15,8),facecolor=\"#ffff99\")\n",
    "# ax1=fig1.add_subplot(111)\n",
    "# col=\"\"\"Name\n",
    "# Roll Number\n",
    "# Tests Missed\n",
    "# Overall Percentile\n",
    "# Rank\"\"\".split('\\n')\n",
    "# # ax1.hist(percentile_attempted,bins=10,histtype='stepfilled',alpha=0.4)\n",
    "# # ax1.bar(x=np.arange(35)+0.75,height=percentile_attempted.value_counts())\n",
    "# ax1.pie(student_grouping['no_of_student'],\n",
    "#         #autopct='%.1f%% \\n students',\n",
    "#        autopct=lambda p: '{:.0f}\\n students'.format(p * pectile_bined.sum() / 100),\n",
    "#         labels=student_grouping[\"group\"],\n",
    "#        labeldistance=1.1,\n",
    "#        shadow=True, startangle= -210, \n",
    "#         textprops={'fontsize': 18},\n",
    "#        explode=(0.09,0.09),colors=['c','pink'],\n",
    "#         rotatelabels =False,\n",
    "#         counterclock=False\n",
    "#        )\n",
    "# plt.title('Batch-3 Performance -AI Quiz')\n",
    "# plt.text(0.1, 0.9,'Analysis \\nOn Q1', ha='center', va='center', transform=ax1.transAxes)"
   ]
  },
  {
   "cell_type": "code",
   "execution_count": 13,
   "metadata": {},
   "outputs": [],
   "source": [
    "# fig2=plt.figure(figsize=(7,7))\n",
    "# ax2=fig2.add_subplot(111)\n",
    "# ax2.hist(freq_q1[freq_q1 != 0],range(20,101,40))"
   ]
  },
  {
   "cell_type": "code",
   "execution_count": 14,
   "metadata": {},
   "outputs": [],
   "source": [
    "# q1.loc[q1['Overall Percentile'] != 0,'Overall Percentile'].describe(percentiles=[.80,.50,.90])\n",
    "#this show only 20% students score above 82 score\n",
    "\n",
    "\n",
    "# almmost 52% students fail to score  60 points (those who attempted ) which is 300 students\n"
   ]
  },
  {
   "cell_type": "code",
   "execution_count": null,
   "metadata": {},
   "outputs": [],
   "source": []
  }
 ],
 "metadata": {
  "kernelspec": {
   "display_name": "Python 3",
   "language": "python",
   "name": "python3"
  },
  "language_info": {
   "codemirror_mode": {
    "name": "ipython",
    "version": 3
   },
   "file_extension": ".py",
   "mimetype": "text/x-python",
   "name": "python",
   "nbconvert_exporter": "python",
   "pygments_lexer": "ipython3",
   "version": "3.7.3"
  }
 },
 "nbformat": 4,
 "nbformat_minor": 2
}
